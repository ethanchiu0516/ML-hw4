{
 "cells": [
  {
   "cell_type": "markdown",
   "metadata": {
    "id": "Gr4zdOw9pkCU"
   },
   "source": [
    "## **HW4 Principal Component Analysis**"
   ]
  },
  {
   "cell_type": "markdown",
   "metadata": {
    "id": "zhSfW8XWpkCX"
   },
   "source": [
    "# 1. Introduction\n",
    "Congratulations on reaching the final assignment! In this assignment, you will learn how to use Principal Components Analysis (PCA) to reduce the dimensionality of high-dimensional data. Additionally, you will compare various differences between the original high-dimensional data and the transformed data obtained through PCA."
   ]
  },
  {
   "cell_type": "code",
   "execution_count": 1,
   "metadata": {
    "id": "2vLifWpRpkCY"
   },
   "outputs": [
    {
     "name": "stdout",
     "output_type": "stream",
     "text": [
      "Requirement already satisfied: import_ipynb in c:\\users\\koisu\\anaconda3\\lib\\site-packages (0.1.4)\n",
      "Requirement already satisfied: IPython in c:\\users\\koisu\\anaconda3\\lib\\site-packages (from import_ipynb) (8.15.0)\n",
      "Requirement already satisfied: nbformat in c:\\users\\koisu\\anaconda3\\lib\\site-packages (from import_ipynb) (5.9.2)\n",
      "Requirement already satisfied: backcall in c:\\users\\koisu\\anaconda3\\lib\\site-packages (from IPython->import_ipynb) (0.2.0)\n",
      "Requirement already satisfied: decorator in c:\\users\\koisu\\anaconda3\\lib\\site-packages (from IPython->import_ipynb) (5.1.1)\n",
      "Requirement already satisfied: jedi>=0.16 in c:\\users\\koisu\\anaconda3\\lib\\site-packages (from IPython->import_ipynb) (0.18.1)\n",
      "Requirement already satisfied: matplotlib-inline in c:\\users\\koisu\\anaconda3\\lib\\site-packages (from IPython->import_ipynb) (0.1.6)\n",
      "Requirement already satisfied: pickleshare in c:\\users\\koisu\\anaconda3\\lib\\site-packages (from IPython->import_ipynb) (0.7.5)\n",
      "Requirement already satisfied: prompt-toolkit!=3.0.37,<3.1.0,>=3.0.30 in c:\\users\\koisu\\anaconda3\\lib\\site-packages (from IPython->import_ipynb) (3.0.36)\n",
      "Requirement already satisfied: pygments>=2.4.0 in c:\\users\\koisu\\anaconda3\\lib\\site-packages (from IPython->import_ipynb) (2.15.1)\n",
      "Requirement already satisfied: stack-data in c:\\users\\koisu\\anaconda3\\lib\\site-packages (from IPython->import_ipynb) (0.2.0)\n",
      "Requirement already satisfied: traitlets>=5 in c:\\users\\koisu\\anaconda3\\lib\\site-packages (from IPython->import_ipynb) (5.7.1)\n",
      "Requirement already satisfied: colorama in c:\\users\\koisu\\anaconda3\\lib\\site-packages (from IPython->import_ipynb) (0.4.6)\n",
      "Requirement already satisfied: fastjsonschema in c:\\users\\koisu\\anaconda3\\lib\\site-packages (from nbformat->import_ipynb) (2.16.2)\n",
      "Requirement already satisfied: jsonschema>=2.6 in c:\\users\\koisu\\anaconda3\\lib\\site-packages (from nbformat->import_ipynb) (4.17.3)\n",
      "Requirement already satisfied: jupyter-core in c:\\users\\koisu\\anaconda3\\lib\\site-packages (from nbformat->import_ipynb) (5.3.0)\n",
      "Requirement already satisfied: parso<0.9.0,>=0.8.0 in c:\\users\\koisu\\anaconda3\\lib\\site-packages (from jedi>=0.16->IPython->import_ipynb) (0.8.3)\n",
      "Requirement already satisfied: attrs>=17.4.0 in c:\\users\\koisu\\anaconda3\\lib\\site-packages (from jsonschema>=2.6->nbformat->import_ipynb) (22.1.0)\n",
      "Requirement already satisfied: pyrsistent!=0.17.0,!=0.17.1,!=0.17.2,>=0.14.0 in c:\\users\\koisu\\anaconda3\\lib\\site-packages (from jsonschema>=2.6->nbformat->import_ipynb) (0.18.0)\n",
      "Requirement already satisfied: wcwidth in c:\\users\\koisu\\anaconda3\\lib\\site-packages (from prompt-toolkit!=3.0.37,<3.1.0,>=3.0.30->IPython->import_ipynb) (0.2.5)\n",
      "Requirement already satisfied: platformdirs>=2.5 in c:\\users\\koisu\\anaconda3\\lib\\site-packages (from jupyter-core->nbformat->import_ipynb) (3.10.0)\n",
      "Requirement already satisfied: pywin32>=300 in c:\\users\\koisu\\anaconda3\\lib\\site-packages (from jupyter-core->nbformat->import_ipynb) (305.1)\n",
      "Requirement already satisfied: executing in c:\\users\\koisu\\anaconda3\\lib\\site-packages (from stack-data->IPython->import_ipynb) (0.8.3)\n",
      "Requirement already satisfied: asttokens in c:\\users\\koisu\\anaconda3\\lib\\site-packages (from stack-data->IPython->import_ipynb) (2.0.5)\n",
      "Requirement already satisfied: pure-eval in c:\\users\\koisu\\anaconda3\\lib\\site-packages (from stack-data->IPython->import_ipynb) (0.2.2)\n",
      "Requirement already satisfied: six in c:\\users\\koisu\\anaconda3\\lib\\site-packages (from asttokens->stack-data->IPython->import_ipynb) (1.16.0)\n"
     ]
    }
   ],
   "source": [
    "! pip install import_ipynb"
   ]
  },
  {
   "cell_type": "code",
   "execution_count": 4,
   "metadata": {},
   "outputs": [
    {
     "name": "stdout",
     "output_type": "stream",
     "text": [
      "Help on module import_ipynb:\n",
      "\n",
      "NAME\n",
      "    import_ipynb\n",
      "\n",
      "CLASSES\n",
      "    builtins.object\n",
      "        NotebookFinder\n",
      "        NotebookLoader\n",
      "    \n",
      "    class NotebookFinder(builtins.object)\n",
      "     |  Module finder that locates Jupyter Notebooks\n",
      "     |  \n",
      "     |  Methods defined here:\n",
      "     |  \n",
      "     |  __init__(self)\n",
      "     |      Initialize self.  See help(type(self)) for accurate signature.\n",
      "     |  \n",
      "     |  find_module(self, fullname, path=None)\n",
      "     |  \n",
      "     |  ----------------------------------------------------------------------\n",
      "     |  Data descriptors defined here:\n",
      "     |  \n",
      "     |  __dict__\n",
      "     |      dictionary for instance variables (if defined)\n",
      "     |  \n",
      "     |  __weakref__\n",
      "     |      list of weak references to the object (if defined)\n",
      "    \n",
      "    class NotebookLoader(builtins.object)\n",
      "     |  NotebookLoader(path=None)\n",
      "     |  \n",
      "     |  Module Loader for Jupyter Notebooks\n",
      "     |  \n",
      "     |  Methods defined here:\n",
      "     |  \n",
      "     |  __init__(self, path=None)\n",
      "     |      Initialize self.  See help(type(self)) for accurate signature.\n",
      "     |  \n",
      "     |  load_module(self, fullname)\n",
      "     |      import a notebook as a module\n",
      "     |  \n",
      "     |  ----------------------------------------------------------------------\n",
      "     |  Data descriptors defined here:\n",
      "     |  \n",
      "     |  __dict__\n",
      "     |      dictionary for instance variables (if defined)\n",
      "     |  \n",
      "     |  __weakref__\n",
      "     |      list of weak references to the object (if defined)\n",
      "\n",
      "FUNCTIONS\n",
      "    find_notebook(fullname, path=None)\n",
      "        find a notebook, given its fully qualified name and an optional path\n",
      "        \n",
      "        This turns \"foo.bar\" into \"foo/bar.ipynb\"\n",
      "        and tries turning \"Foo_Bar\" into \"Foo Bar\" if Foo_Bar\n",
      "        does not exist.\n",
      "\n",
      "FILE\n",
      "    c:\\users\\koisu\\anaconda3\\lib\\site-packages\\import_ipynb.py\n",
      "\n",
      "\n"
     ]
    }
   ],
   "source": [
    "help(import_ipynb)"
   ]
  },
  {
   "cell_type": "code",
   "execution_count": 4,
   "metadata": {
    "id": "lvoW7FrmpkCZ"
   },
   "outputs": [],
   "source": [
    "# You are not allowed to import other packages\n",
    "import numpy as np\n",
    "import matplotlib.pyplot as plt\n",
    "from sklearn.metrics import f1_score\n",
    "import math\n",
    "\n",
    "import import_ipynb\n",
    "from PCA import MY_PCA, MY_SparsePCA\n",
    "from Model import *\n",
    "from Loss import *\n",
    "from Utils import *\n",
    "from Data_preprocess import *\n",
    "from Trainer import *\n",
    "from Config import *\n",
    "\n",
    "import time"
   ]
  },
  {
   "cell_type": "markdown",
   "metadata": {
    "id": "BeYQuTFqpkCa"
   },
   "source": [
    "## Model & Data preprocess"
   ]
  },
  {
   "cell_type": "markdown",
   "metadata": {
    "id": "xVM0YFNGpkCa"
   },
   "source": [
    "As mentioned in Assignment 3, this assignment is closely related to it. Please follow the data preprocessing and model implementation steps from Assignment 3. Note that there are additional constraints on the layer stacking in the model implementation this time. Be sure to follow the prompts for designing the model accordingly.\n",
    "\n",
    "This time, we'll organize different functionalities into separate files for better code readability. For the model and data preprocessing, please implement them in the following files: Loss.ipynb, Model.ipynb, and Data_preprocess.ipynb."
   ]
  },
  {
   "cell_type": "code",
   "execution_count": 5,
   "metadata": {
    "id": "vloO1iWppkCb"
   },
   "outputs": [
    {
     "name": "stdout",
     "output_type": "stream",
     "text": [
      "Train: X=(353, 10), Y=(353, 1)\n",
      "Test: X=(89, 10)\n"
     ]
    },
    {
     "ename": "TypeError",
     "evalue": "Invalid shape (10,) for image data",
     "output_type": "error",
     "traceback": [
      "\u001b[1;31m---------------------------------------------------------------------------\u001b[0m",
      "\u001b[1;31mTypeError\u001b[0m                                 Traceback (most recent call last)",
      "Cell \u001b[1;32mIn[5], line 1\u001b[0m\n\u001b[1;32m----> 1\u001b[0m X_train, Y_train, X_test \u001b[38;5;241m=\u001b[39m load_data(\u001b[38;5;124m'\u001b[39m\u001b[38;5;124mbasic_data.npz\u001b[39m\u001b[38;5;124m'\u001b[39m)\n\u001b[0;32m      2\u001b[0m x_train, y_train, x_val, y_val \u001b[38;5;241m=\u001b[39m data_preprocess(X_train, Y_train)\n",
      "File \u001b[1;32m<string>:16\u001b[0m, in \u001b[0;36mload_data\u001b[1;34m(path)\u001b[0m\n",
      "File \u001b[1;32m~\\anaconda3\\Lib\\site-packages\\matplotlib\\pyplot.py:2695\u001b[0m, in \u001b[0;36mimshow\u001b[1;34m(X, cmap, norm, aspect, interpolation, alpha, vmin, vmax, origin, extent, interpolation_stage, filternorm, filterrad, resample, url, data, **kwargs)\u001b[0m\n\u001b[0;32m   2689\u001b[0m \u001b[38;5;129m@_copy_docstring_and_deprecators\u001b[39m(Axes\u001b[38;5;241m.\u001b[39mimshow)\n\u001b[0;32m   2690\u001b[0m \u001b[38;5;28;01mdef\u001b[39;00m \u001b[38;5;21mimshow\u001b[39m(\n\u001b[0;32m   2691\u001b[0m         X, cmap\u001b[38;5;241m=\u001b[39m\u001b[38;5;28;01mNone\u001b[39;00m, norm\u001b[38;5;241m=\u001b[39m\u001b[38;5;28;01mNone\u001b[39;00m, \u001b[38;5;241m*\u001b[39m, aspect\u001b[38;5;241m=\u001b[39m\u001b[38;5;28;01mNone\u001b[39;00m, interpolation\u001b[38;5;241m=\u001b[39m\u001b[38;5;28;01mNone\u001b[39;00m,\n\u001b[0;32m   2692\u001b[0m         alpha\u001b[38;5;241m=\u001b[39m\u001b[38;5;28;01mNone\u001b[39;00m, vmin\u001b[38;5;241m=\u001b[39m\u001b[38;5;28;01mNone\u001b[39;00m, vmax\u001b[38;5;241m=\u001b[39m\u001b[38;5;28;01mNone\u001b[39;00m, origin\u001b[38;5;241m=\u001b[39m\u001b[38;5;28;01mNone\u001b[39;00m, extent\u001b[38;5;241m=\u001b[39m\u001b[38;5;28;01mNone\u001b[39;00m,\n\u001b[0;32m   2693\u001b[0m         interpolation_stage\u001b[38;5;241m=\u001b[39m\u001b[38;5;28;01mNone\u001b[39;00m, filternorm\u001b[38;5;241m=\u001b[39m\u001b[38;5;28;01mTrue\u001b[39;00m, filterrad\u001b[38;5;241m=\u001b[39m\u001b[38;5;241m4.0\u001b[39m,\n\u001b[0;32m   2694\u001b[0m         resample\u001b[38;5;241m=\u001b[39m\u001b[38;5;28;01mNone\u001b[39;00m, url\u001b[38;5;241m=\u001b[39m\u001b[38;5;28;01mNone\u001b[39;00m, data\u001b[38;5;241m=\u001b[39m\u001b[38;5;28;01mNone\u001b[39;00m, \u001b[38;5;241m*\u001b[39m\u001b[38;5;241m*\u001b[39mkwargs):\n\u001b[1;32m-> 2695\u001b[0m     __ret \u001b[38;5;241m=\u001b[39m gca()\u001b[38;5;241m.\u001b[39mimshow(\n\u001b[0;32m   2696\u001b[0m         X, cmap\u001b[38;5;241m=\u001b[39mcmap, norm\u001b[38;5;241m=\u001b[39mnorm, aspect\u001b[38;5;241m=\u001b[39maspect,\n\u001b[0;32m   2697\u001b[0m         interpolation\u001b[38;5;241m=\u001b[39minterpolation, alpha\u001b[38;5;241m=\u001b[39malpha, vmin\u001b[38;5;241m=\u001b[39mvmin,\n\u001b[0;32m   2698\u001b[0m         vmax\u001b[38;5;241m=\u001b[39mvmax, origin\u001b[38;5;241m=\u001b[39morigin, extent\u001b[38;5;241m=\u001b[39mextent,\n\u001b[0;32m   2699\u001b[0m         interpolation_stage\u001b[38;5;241m=\u001b[39minterpolation_stage,\n\u001b[0;32m   2700\u001b[0m         filternorm\u001b[38;5;241m=\u001b[39mfilternorm, filterrad\u001b[38;5;241m=\u001b[39mfilterrad, resample\u001b[38;5;241m=\u001b[39mresample,\n\u001b[0;32m   2701\u001b[0m         url\u001b[38;5;241m=\u001b[39murl, \u001b[38;5;241m*\u001b[39m\u001b[38;5;241m*\u001b[39m({\u001b[38;5;124m\"\u001b[39m\u001b[38;5;124mdata\u001b[39m\u001b[38;5;124m\"\u001b[39m: data} \u001b[38;5;28;01mif\u001b[39;00m data \u001b[38;5;129;01mis\u001b[39;00m \u001b[38;5;129;01mnot\u001b[39;00m \u001b[38;5;28;01mNone\u001b[39;00m \u001b[38;5;28;01melse\u001b[39;00m {}),\n\u001b[0;32m   2702\u001b[0m         \u001b[38;5;241m*\u001b[39m\u001b[38;5;241m*\u001b[39mkwargs)\n\u001b[0;32m   2703\u001b[0m     sci(__ret)\n\u001b[0;32m   2704\u001b[0m     \u001b[38;5;28;01mreturn\u001b[39;00m __ret\n",
      "File \u001b[1;32m~\\anaconda3\\Lib\\site-packages\\matplotlib\\__init__.py:1446\u001b[0m, in \u001b[0;36m_preprocess_data.<locals>.inner\u001b[1;34m(ax, data, *args, **kwargs)\u001b[0m\n\u001b[0;32m   1443\u001b[0m \u001b[38;5;129m@functools\u001b[39m\u001b[38;5;241m.\u001b[39mwraps(func)\n\u001b[0;32m   1444\u001b[0m \u001b[38;5;28;01mdef\u001b[39;00m \u001b[38;5;21minner\u001b[39m(ax, \u001b[38;5;241m*\u001b[39margs, data\u001b[38;5;241m=\u001b[39m\u001b[38;5;28;01mNone\u001b[39;00m, \u001b[38;5;241m*\u001b[39m\u001b[38;5;241m*\u001b[39mkwargs):\n\u001b[0;32m   1445\u001b[0m     \u001b[38;5;28;01mif\u001b[39;00m data \u001b[38;5;129;01mis\u001b[39;00m \u001b[38;5;28;01mNone\u001b[39;00m:\n\u001b[1;32m-> 1446\u001b[0m         \u001b[38;5;28;01mreturn\u001b[39;00m func(ax, \u001b[38;5;241m*\u001b[39m\u001b[38;5;28mmap\u001b[39m(sanitize_sequence, args), \u001b[38;5;241m*\u001b[39m\u001b[38;5;241m*\u001b[39mkwargs)\n\u001b[0;32m   1448\u001b[0m     bound \u001b[38;5;241m=\u001b[39m new_sig\u001b[38;5;241m.\u001b[39mbind(ax, \u001b[38;5;241m*\u001b[39margs, \u001b[38;5;241m*\u001b[39m\u001b[38;5;241m*\u001b[39mkwargs)\n\u001b[0;32m   1449\u001b[0m     auto_label \u001b[38;5;241m=\u001b[39m (bound\u001b[38;5;241m.\u001b[39marguments\u001b[38;5;241m.\u001b[39mget(label_namer)\n\u001b[0;32m   1450\u001b[0m                   \u001b[38;5;129;01mor\u001b[39;00m bound\u001b[38;5;241m.\u001b[39mkwargs\u001b[38;5;241m.\u001b[39mget(label_namer))\n",
      "File \u001b[1;32m~\\anaconda3\\Lib\\site-packages\\matplotlib\\axes\\_axes.py:5663\u001b[0m, in \u001b[0;36mAxes.imshow\u001b[1;34m(self, X, cmap, norm, aspect, interpolation, alpha, vmin, vmax, origin, extent, interpolation_stage, filternorm, filterrad, resample, url, **kwargs)\u001b[0m\n\u001b[0;32m   5655\u001b[0m \u001b[38;5;28mself\u001b[39m\u001b[38;5;241m.\u001b[39mset_aspect(aspect)\n\u001b[0;32m   5656\u001b[0m im \u001b[38;5;241m=\u001b[39m mimage\u001b[38;5;241m.\u001b[39mAxesImage(\u001b[38;5;28mself\u001b[39m, cmap\u001b[38;5;241m=\u001b[39mcmap, norm\u001b[38;5;241m=\u001b[39mnorm,\n\u001b[0;32m   5657\u001b[0m                       interpolation\u001b[38;5;241m=\u001b[39minterpolation, origin\u001b[38;5;241m=\u001b[39morigin,\n\u001b[0;32m   5658\u001b[0m                       extent\u001b[38;5;241m=\u001b[39mextent, filternorm\u001b[38;5;241m=\u001b[39mfilternorm,\n\u001b[0;32m   5659\u001b[0m                       filterrad\u001b[38;5;241m=\u001b[39mfilterrad, resample\u001b[38;5;241m=\u001b[39mresample,\n\u001b[0;32m   5660\u001b[0m                       interpolation_stage\u001b[38;5;241m=\u001b[39minterpolation_stage,\n\u001b[0;32m   5661\u001b[0m                       \u001b[38;5;241m*\u001b[39m\u001b[38;5;241m*\u001b[39mkwargs)\n\u001b[1;32m-> 5663\u001b[0m im\u001b[38;5;241m.\u001b[39mset_data(X)\n\u001b[0;32m   5664\u001b[0m im\u001b[38;5;241m.\u001b[39mset_alpha(alpha)\n\u001b[0;32m   5665\u001b[0m \u001b[38;5;28;01mif\u001b[39;00m im\u001b[38;5;241m.\u001b[39mget_clip_path() \u001b[38;5;129;01mis\u001b[39;00m \u001b[38;5;28;01mNone\u001b[39;00m:\n\u001b[0;32m   5666\u001b[0m     \u001b[38;5;66;03m# image does not already have clipping set, clip to axes patch\u001b[39;00m\n",
      "File \u001b[1;32m~\\anaconda3\\Lib\\site-packages\\matplotlib\\image.py:710\u001b[0m, in \u001b[0;36m_ImageBase.set_data\u001b[1;34m(self, A)\u001b[0m\n\u001b[0;32m    706\u001b[0m     \u001b[38;5;28mself\u001b[39m\u001b[38;5;241m.\u001b[39m_A \u001b[38;5;241m=\u001b[39m \u001b[38;5;28mself\u001b[39m\u001b[38;5;241m.\u001b[39m_A[:, :, \u001b[38;5;241m0\u001b[39m]\n\u001b[0;32m    708\u001b[0m \u001b[38;5;28;01mif\u001b[39;00m \u001b[38;5;129;01mnot\u001b[39;00m (\u001b[38;5;28mself\u001b[39m\u001b[38;5;241m.\u001b[39m_A\u001b[38;5;241m.\u001b[39mndim \u001b[38;5;241m==\u001b[39m \u001b[38;5;241m2\u001b[39m\n\u001b[0;32m    709\u001b[0m         \u001b[38;5;129;01mor\u001b[39;00m \u001b[38;5;28mself\u001b[39m\u001b[38;5;241m.\u001b[39m_A\u001b[38;5;241m.\u001b[39mndim \u001b[38;5;241m==\u001b[39m \u001b[38;5;241m3\u001b[39m \u001b[38;5;129;01mand\u001b[39;00m \u001b[38;5;28mself\u001b[39m\u001b[38;5;241m.\u001b[39m_A\u001b[38;5;241m.\u001b[39mshape[\u001b[38;5;241m-\u001b[39m\u001b[38;5;241m1\u001b[39m] \u001b[38;5;129;01min\u001b[39;00m [\u001b[38;5;241m3\u001b[39m, \u001b[38;5;241m4\u001b[39m]):\n\u001b[1;32m--> 710\u001b[0m     \u001b[38;5;28;01mraise\u001b[39;00m \u001b[38;5;167;01mTypeError\u001b[39;00m(\u001b[38;5;124m\"\u001b[39m\u001b[38;5;124mInvalid shape \u001b[39m\u001b[38;5;132;01m{}\u001b[39;00m\u001b[38;5;124m for image data\u001b[39m\u001b[38;5;124m\"\u001b[39m\n\u001b[0;32m    711\u001b[0m                     \u001b[38;5;241m.\u001b[39mformat(\u001b[38;5;28mself\u001b[39m\u001b[38;5;241m.\u001b[39m_A\u001b[38;5;241m.\u001b[39mshape))\n\u001b[0;32m    713\u001b[0m \u001b[38;5;28;01mif\u001b[39;00m \u001b[38;5;28mself\u001b[39m\u001b[38;5;241m.\u001b[39m_A\u001b[38;5;241m.\u001b[39mndim \u001b[38;5;241m==\u001b[39m \u001b[38;5;241m3\u001b[39m:\n\u001b[0;32m    714\u001b[0m     \u001b[38;5;66;03m# If the input data has values outside the valid range (after\u001b[39;00m\n\u001b[0;32m    715\u001b[0m     \u001b[38;5;66;03m# normalisation), we issue a warning and then clip X to the bounds\u001b[39;00m\n\u001b[0;32m    716\u001b[0m     \u001b[38;5;66;03m# - otherwise casting wraps extreme values, hiding outliers and\u001b[39;00m\n\u001b[0;32m    717\u001b[0m     \u001b[38;5;66;03m# making reliable interpretation impossible.\u001b[39;00m\n\u001b[0;32m    718\u001b[0m     high \u001b[38;5;241m=\u001b[39m \u001b[38;5;241m255\u001b[39m \u001b[38;5;28;01mif\u001b[39;00m np\u001b[38;5;241m.\u001b[39missubdtype(\u001b[38;5;28mself\u001b[39m\u001b[38;5;241m.\u001b[39m_A\u001b[38;5;241m.\u001b[39mdtype, np\u001b[38;5;241m.\u001b[39minteger) \u001b[38;5;28;01melse\u001b[39;00m \u001b[38;5;241m1\u001b[39m\n",
      "\u001b[1;31mTypeError\u001b[0m: Invalid shape (10,) for image data"
     ]
    },
    {
     "data": {
      "image/png": "[encoded data removed]",
      "text/plain": [
       "<Figure size 640x480 with 1 Axes>"
      ]
     },
     "metadata": {},
     "output_type": "display_data"
    }
   ],
   "source": [
    "X_train, Y_train, X_test = load_data('basic_data.npz')\n",
    "x_train, y_train, x_val, y_val = data_preprocess(X_train, Y_train)"
   ]
  },
  {
   "cell_type": "markdown",
   "metadata": {
    "id": "ous_bColpkCb"
   },
   "source": [
    "# 2. Basic Part"
   ]
  },
  {
   "cell_type": "markdown",
   "metadata": {
    "id": "s_LapbUfpkCc"
   },
   "source": [
    "## PCA Implement\n",
    "In this section, you are required to implement PCA by completing the following steps in the PCA.ipynb file.\n",
    ">* Step1. Centering\n",
    ">* Step2. Covariance matrix computation\n",
    ">* Step3. Eigenvectors and eigenvalues computation\n",
    ">* Step4. Projection\n",
    "\n",
    "After implementing PCA, you need to reduce the data to two dimensions, observe the two-dimensional scatter plot of the data, and include it in the report."
   ]
  },
  {
   "cell_type": "code",
   "execution_count": 6,
   "metadata": {
    "id": "QTv9twa-pkCc"
   },
   "outputs": [
    {
     "ename": "NameError",
     "evalue": "name 'PCA_visualization' is not defined",
     "output_type": "error",
     "traceback": [
      "\u001b[1;31m---------------------------------------------------------------------------\u001b[0m",
      "\u001b[1;31mNameError\u001b[0m                                 Traceback (most recent call last)",
      "Cell \u001b[1;32mIn[6], line 3\u001b[0m\n\u001b[0;32m      1\u001b[0m \u001b[38;5;66;03m# GRADED CODE: DATA CENTRALIZATION\u001b[39;00m\n\u001b[0;32m      2\u001b[0m \u001b[38;5;66;03m### START CODE HERE ###\u001b[39;00m\n\u001b[1;32m----> 3\u001b[0m x_train_cent \u001b[38;5;241m=\u001b[39m PCA_visualization(x_train)\n\u001b[0;32m      4\u001b[0m x_val_cent \u001b[38;5;241m=\u001b[39m PCA_visualization(x_val)\n\u001b[0;32m      5\u001b[0m X_test_cent \u001b[38;5;241m=\u001b[39m PCA_visualization(x_test)\n",
      "\u001b[1;31mNameError\u001b[0m: name 'PCA_visualization' is not defined"
     ]
    }
   ],
   "source": [
    "# GRADED CODE: DATA CENTRALIZATION\n",
    "### START CODE HERE ###\n",
    "x_train_cent = PCA_visualization(x_train)\n",
    "x_val_cent = PCA_visualization(x_val)\n",
    "X_test_cent = PCA_visualization(x_test)\n",
    "### END CODE HERE ###"
   ]
  },
  {
   "cell_type": "code",
   "execution_count": 7,
   "metadata": {
    "id": "sNRWK6TBpkCc"
   },
   "outputs": [
    {
     "ename": "TypeError",
     "evalue": "MY_PCA.PCA_visualization() missing 1 required positional argument: 'label'",
     "output_type": "error",
     "traceback": [
      "\u001b[1;31m---------------------------------------------------------------------------\u001b[0m",
      "\u001b[1;31mTypeError\u001b[0m                                 Traceback (most recent call last)",
      "Cell \u001b[1;32mIn[7], line 8\u001b[0m\n\u001b[0;32m      5\u001b[0m x_val_pca \u001b[38;5;241m=\u001b[39m \u001b[38;5;28;01mNone\u001b[39;00m\n\u001b[0;32m      6\u001b[0m x_test_pca \u001b[38;5;241m=\u001b[39m \u001b[38;5;28;01mNone\u001b[39;00m\n\u001b[1;32m----> 8\u001b[0m pca\u001b[38;5;241m.\u001b[39mPCA_visualization(\u001b[38;5;28;01mNone\u001b[39;00m)\n\u001b[0;32m      9\u001b[0m pca\u001b[38;5;241m.\u001b[39mPCA_visualization(\u001b[38;5;28;01mNone\u001b[39;00m)\n",
      "\u001b[1;31mTypeError\u001b[0m: MY_PCA.PCA_visualization() missing 1 required positional argument: 'label'"
     ]
    }
   ],
   "source": [
    "# GRADED CODE: PCA SCATTER PLOT VISUALIZATION\n",
    "### START CODE HERE ###\n",
    "pca = MY_PCA(2)\n",
    "x_train_pca = None\n",
    "x_val_pca = None\n",
    "x_test_pca = None\n",
    "\n",
    "pca.PCA_visualization(None)\n",
    "pca.PCA_visualization(None)\n",
    "### END CODE HERE ###"
   ]
  },
  {
   "cell_type": "code",
   "execution_count": null,
   "metadata": {
    "id": "kTjDI0owpkCd"
   },
   "outputs": [],
   "source": [
    "basic_cov = pca.covariance_matrix\n",
    "print('covariance_matrix: ', (basic_cov[100][12:16]*10000).round(3))\n",
    "print(f'x_train_pca:', x_train_pca[0].round(3))\n",
    "print('x_val_pca: ',x_val_pca[0].round(3))"
   ]
  },
  {
   "cell_type": "markdown",
   "metadata": {
    "id": "j4Nho-l8pkCd"
   },
   "source": [
    "**Expected Output**\n",
    "$$ covariance\\_matrix:\\  [0.015\\ \\  0.322\\ \\ 0.322\\ \\ 0.013]$$\n",
    "$$ x\\_train\\_pca:\\ [0.707\\ \\ 3.321]$$\n",
    "$$ x\\_val\\_pca:\\ [-2.295\\  -2.88]$$\n",
    "$$or$$\n",
    "$$ x\\_train\\_pca:\\ [-0.707\\ \\ -3.321]$$\n",
    "$$ x\\_val\\_pca:\\ [2.295\\  2.88]$$"
   ]
  },
  {
   "cell_type": "code",
   "execution_count": null,
   "metadata": {
    "id": "PQPj1Vg3pkCd"
   },
   "outputs": [],
   "source": [
    "# GRADED CODE: TRAINING MODEL WITH PCA DATA (PCA for Training, Validation and Test Dataset)\n",
    "### START CODE HERE ###\n",
    "n_components = None\n",
    "pca = None\n",
    "x_train_pca = None\n",
    "x_val_pca = None\n",
    "x_test_pca = None\n",
    "### END CODE HERE ###\n",
    "\n"
   ]
  },
  {
   "cell_type": "code",
   "execution_count": null,
   "metadata": {
    "id": "WeKvtQJnpkCd"
   },
   "outputs": [],
   "source": [
    "# GRADED CODE: PCA INFORMATION REMAIN RATIO PLOT\n",
    "### START CODE HERE ###\n",
    "num_PC, var_ratio = pca.components_remain_ratio(0.80)\n",
    "### END CODE HERE###\n",
    "\n",
    "\n",
    "plt.plot(var_ratio)\n",
    "plt.axvline(x=num_PC, color='r', linestyle='--')\n",
    "\n",
    "plt.text(x=num_PC+3, y=0.02, s='80%', color='r')\n",
    "plt.title('Information Remain Ratio')\n",
    "plt.xlabel('# of Principle Components')\n",
    "plt.ylabel('Remain Ratio of Data')\n",
    "plt.show()\n",
    "plt.savefig('Infotmation Remaining Ratio.png')\n",
    "plt.close()"
   ]
  },
  {
   "cell_type": "code",
   "execution_count": null,
   "metadata": {
    "id": "8Ldeb1GlpkCd"
   },
   "outputs": [],
   "source": [
    "\n",
    "reconstruct_data_train, z_train = pca.reconstructData(x_train[0], np.mean(x_train, axis=0), 4)\n",
    "reconstruct_data_val, z_val = pca.reconstructData(x_val[0], np.mean(x_train, axis=0), 4)\n",
    "\n",
    "# GRADED CODE: PCA RECONSTRUCT IMAGE PLOT\n",
    "### START CODE HERE ###\n",
    "reconstruct_img = None\n",
    "### END CODE HERE ###\n",
    "\n",
    "plt.imshow(reconstruct_img, cmap='binary')\n",
    "plt.savefig('reconstruct_img.png')\n",
    "plt.close()\n",
    "\n",
    "\n",
    "train_squared_reconstruct_error = np.sum(x_train[0] - reconstruct_data_train)**2/reconstruct_data_train.shape[0]\n",
    "val_squared_reconstruct_error = np.sum(x_val[0] - reconstruct_data_val)**2/reconstruct_data_val.shape[0]"
   ]
  },
  {
   "cell_type": "code",
   "execution_count": 1,
   "metadata": {
    "id": "iejLL9ovpkCd"
   },
   "outputs": [
    {
     "ename": "NameError",
     "evalue": "name 'num_PC' is not defined",
     "output_type": "error",
     "traceback": [
      "\u001b[1;31m---------------------------------------------------------------------------\u001b[0m",
      "\u001b[1;31mNameError\u001b[0m                                 Traceback (most recent call last)",
      "Cell \u001b[1;32mIn[1], line 1\u001b[0m\n\u001b[1;32m----> 1\u001b[0m \u001b[38;5;28mprint\u001b[39m(\u001b[38;5;124m'\u001b[39m\u001b[38;5;124mk principle components:\u001b[39m\u001b[38;5;124m'\u001b[39m, num_PC)\n\u001b[0;32m      2\u001b[0m \u001b[38;5;28mprint\u001b[39m(\u001b[38;5;124m'\u001b[39m\u001b[38;5;124mTrain Squared Reconstruct Error: \u001b[39m\u001b[38;5;124m'\u001b[39m, train_squared_reconstruct_error\u001b[38;5;241m.\u001b[39mround(\u001b[38;5;241m3\u001b[39m))\n\u001b[0;32m      3\u001b[0m \u001b[38;5;28mprint\u001b[39m(\u001b[38;5;124m'\u001b[39m\u001b[38;5;124mValidation Squared Reconstruct Error: \u001b[39m\u001b[38;5;124m'\u001b[39m,val_squared_reconstruct_error\u001b[38;5;241m.\u001b[39mround(\u001b[38;5;241m3\u001b[39m))\n",
      "\u001b[1;31mNameError\u001b[0m: name 'num_PC' is not defined"
     ]
    }
   ],
   "source": [
    "print('k principle components:', num_PC)\n",
    "print('Train Squared Reconstruct Error: ', train_squared_reconstruct_error.round(3))\n",
    "print('Validation Squared Reconstruct Error: ',val_squared_reconstruct_error.round(3))\n",
    "print('z: ', ['%.3f' %(z) for z in z_train])"
   ]
  },
  {
   "cell_type": "markdown",
   "metadata": {
    "id": "NnB72UUYpkCe"
   },
   "source": [
    "**Expected output:**\n",
    "\n",
    "$$ k\\ principle\\ components:  40 $$\n",
    "$$ Train\\ Squared\\ Recontstruct\\ Error:  0.043 $$\n",
    "$$ Validation\\ Squared\\ Reconstruct\\ Error:  0.077 $$\n",
    "$$ z:  [0.707, 3.321, 0.928, 0.603] $$\n",
    "$$or$$\n",
    "$$ z:  [-0.707, -3.321, 0.928, -0.603] $$"
   ]
  },
  {
   "cell_type": "markdown",
   "metadata": {
    "id": "EsNwAICZpkCe"
   },
   "source": [
    "### Mdoel\n",
    "In this part, you need to train your model with low-dimensional data (after PCA) and original data, respectively. Compare the difference between them."
   ]
  },
  {
   "cell_type": "code",
   "execution_count": null,
   "metadata": {
    "id": "VgeKr5RspkCe"
   },
   "outputs": [],
   "source": [
    "config = Config([x_train.shape[1], 128, 10], 'focal_loss')\n",
    "\n",
    "#GRADED CODE: TRAINING MODEL WITHOUT PCA DATA (MODEL SETTING AND TRAINING)\n",
    "### START CODE HERE ###\n",
    "\n",
    "### END CODE HERE ###"
   ]
  },
  {
   "cell_type": "code",
   "execution_count": null,
   "metadata": {
    "id": "7epRCRENpkCe"
   },
   "outputs": [],
   "source": [
    "pred_train = predict(x_train, y_train, model)"
   ]
  },
  {
   "cell_type": "code",
   "execution_count": null,
   "metadata": {
    "id": "T5DAQ5jUpkCe"
   },
   "outputs": [],
   "source": [
    "pred_val = predict(x_val, y_val, model)"
   ]
  },
  {
   "cell_type": "code",
   "execution_count": null,
   "metadata": {
    "id": "T_PDS-0lpkCe"
   },
   "outputs": [],
   "source": [
    "config = Config([n_components, 128, 10], 'focal_loss')\n",
    "\n",
    "# GRADED CODE: TRAINING MODEL WITH PCA DATA (MODEL SETTING AND TRAINING)\n",
    "### START CODE HERE ###\n",
    "\n",
    "### END CODE HERE ###"
   ]
  },
  {
   "cell_type": "code",
   "execution_count": null,
   "metadata": {
    "id": "WpVSMc_lpkCe"
   },
   "outputs": [],
   "source": [
    "pred_train = predict(x_train_pca, y_train, model)"
   ]
  },
  {
   "cell_type": "code",
   "execution_count": null,
   "metadata": {
    "id": "nXdbX54cpkCe"
   },
   "outputs": [],
   "source": [
    "pred_val = predict(x_val_pca, y_val, model)"
   ]
  },
  {
   "cell_type": "code",
   "execution_count": null,
   "metadata": {
    "id": "37ZJ32j8pkCe"
   },
   "outputs": [],
   "source": [
    "pred_test = predict(x_test_pca, None, model)\n",
    "outputs = {}\n",
    "outputs[\"basic_pred_test\"] = pred_test\n",
    "outputs[\"basic_layers_dims\"] = config.layers_dims\n",
    "outputs[\"basic_activation_fn\"] = config.activation_fn\n",
    "outputs[\"basic_loss_function\"] = config.loss_function\n",
    "outputs[\"basic_alpha\"] = config.alpha\n",
    "outputs[\"basic_gamma\"] = config.gamma\n",
    "outputs[\"basic_reconstruct_data_train\"] = reconstruct_data_train\n",
    "outputs[\"basic_reconstruct_data_val\"] = reconstruct_data_val\n",
    "outputs[\"basic_covariance_matrix\"] = basic_cov\n",
    "outputs[\"basic_var_ratio\"] = var_ratio\n",
    "basic_model_parameters = []\n",
    "for basic_linear in model.linear:\n",
    "    basic_model_parameters.append(basic_linear.parameters)\n",
    "outputs[\"basic_model_parameters\"] = basic_model_parameters"
   ]
  },
  {
   "cell_type": "markdown",
   "metadata": {
    "id": "l1Y4-gGvpkCe"
   },
   "source": [
    "# 3. Advanced Part"
   ]
  },
  {
   "cell_type": "markdown",
   "metadata": {
    "id": "vfCmxh4IpkCe"
   },
   "source": [
    "In the advanced section, you will learn how to implement non-linear PCA, Sparse PCA.\n",
    "Please complete the PCA.ipynb file for this purpose."
   ]
  },
  {
   "cell_type": "code",
   "execution_count": 8,
   "metadata": {
    "id": "78LVwm1GpkCe"
   },
   "outputs": [
    {
     "name": "stdout",
     "output_type": "stream",
     "text": [
      "Train: X=(31065, 28, 28), Y=(31065,)\n",
      "Test: X=(7767, 28, 28)\n"
     ]
    },
    {
     "data": {
      "image/png": "[encoded data removed]",
      "text/plain": [
       "<Figure size 640x480 with 9 Axes>"
      ]
     },
     "metadata": {},
     "output_type": "display_data"
    },
    {
     "name": "stdout",
     "output_type": "stream",
     "text": [
      "shape of X_train: (31065, 28, 28)\n",
      "shape of Y_train: (31065, 10)\n",
      "shape of X_test: (7767, 28, 28)\n",
      "\n",
      "shape of X_train: (31065, 784)\n",
      "shape of Y_train: (31065, 10)\n",
      "shape of X_test: (7767, 784)\n",
      "shape of x_train: (24852, 784)\n",
      "shape of y_train: (24852, 10)\n",
      "training data - percentage [0.18, 0.18, 0.14, 0.13, 0.11, 0.08, 0.07, 0.06, 0.04, 0.02]\n",
      "shape of x_val: (6213, 784)\n",
      "shape of y_val: (6213, 10)\n",
      "validation data - percentage [0.18, 0.19, 0.14, 0.12, 0.1, 0.09, 0.07, 0.06, 0.04, 0.02]\n"
     ]
    },
    {
     "data": {
      "image/png": "[encoded data removed]",
      "text/plain": [
       "<Figure size 1000x400 with 2 Axes>"
      ]
     },
     "metadata": {},
     "output_type": "display_data"
    }
   ],
   "source": [
    "X_noise_train, Y_noise_train, X_noise_test = load_data('advanced_data.npz')\n",
    "x_noise_train, y_noise_train, x_noise_val, y_noise_val = data_preprocess(X_noise_train, Y_noise_train)"
   ]
  },
  {
   "cell_type": "code",
   "execution_count": null,
   "metadata": {},
   "outputs": [],
   "source": [
    "# GRADED CODE: DATA CENTRALIZATION\n",
    "### START CODE HERE ###\n",
    "x_noise_train_cent = None\n",
    "x_noise_val_cent = None\n",
    "X_noise_test_cent = None\n",
    "### END CODE HERE ###"
   ]
  },
  {
   "cell_type": "code",
   "execution_count": null,
   "metadata": {
    "id": "mymo_kwRpkCe"
   },
   "outputs": [],
   "source": [
    "# YOU CAN DO PCA HERE TO COMPARE THE PERFORMANCE WITH SPARCEPCA (NOT FOR GRADING)\n",
    "# PCA PART\n",
    "### START CODE HERE ###\n",
    "#PCA PART\n",
    "None\n",
    "\n",
    "#TRAIN WITH ORIGINAL DATA\n",
    "None\n",
    "\n",
    "#TRAIN WITH PCA DATA\n",
    "None\n",
    "\n",
    "### END CODE HERE ###"
   ]
  },
  {
   "cell_type": "markdown",
   "metadata": {
    "id": "e_j0V7OepkCf"
   },
   "source": [
    "### SparsePCA"
   ]
  },
  {
   "cell_type": "code",
   "execution_count": null,
   "metadata": {
    "id": "uaQm8wD4pkCf"
   },
   "outputs": [],
   "source": [
    "n_components = 2\n",
    "sparse_pca = MY_SparsePCA(n_components, 0.001, 1000)\n",
    "\n",
    "# GRADED CODE: SPARSE PCA IMPLEMENT\n",
    "### START CODE HERE ###\n",
    "x_train_spca = None\n",
    "x_val_spca = None\n",
    "x_test_spca = None\n",
    "### END CODE HERE ###"
   ]
  },
  {
   "cell_type": "code",
   "execution_count": null,
   "metadata": {
    "id": "YaKLNth0pkCf"
   },
   "outputs": [],
   "source": [
    "sparse_pca_check = x_train_spca\n",
    "sparse_Vt = sparse_pca.Vt[0][0]\n",
    "\n",
    "print('Sparse_pca init Vt: ', sparse_Vt)\n",
    "print('x_train_spca: ', sparse_pca_check[0].round(3))"
   ]
  },
  {
   "cell_type": "markdown",
   "metadata": {
    "id": "cPifu_98pkCf"
   },
   "source": [
    "**Expected Output**\n",
    "$$ Sparse\\_pca\\ init\\ Vt:\\ 1.74160428e^{-20} $$\n",
    "$$ x\\_train\\_spca:\\ [-0.229\\ \\ -0.762]$$"
   ]
  },
  {
   "cell_type": "code",
   "execution_count": null,
   "metadata": {
    "id": "rBgWV8tOpkCf"
   },
   "outputs": [],
   "source": [
    "# GRADED CODE: SPARSE PCA IMPLEMENT\n",
    "### START CODE HERE ###\n",
    "n_components = None\n",
    "sparse_pca = None\n",
    "x_train_spca = None\n",
    "x_val_spca = None\n",
    "x_test_spca = None\n",
    "### END CODE HERE ###"
   ]
  },
  {
   "cell_type": "code",
   "execution_count": null,
   "metadata": {
    "id": "68jwX8Q9pkCf"
   },
   "outputs": [],
   "source": [
    "config = Config([n_components, 64, 10], 'focal_loss')\n",
    "\n",
    "# GRADED CODE: SPARSE PCA IMPLEMENT\n",
    "### START CODE HERE ###\n",
    "None\n",
    "### END CODE HERE ###"
   ]
  },
  {
   "cell_type": "code",
   "execution_count": null,
   "metadata": {
    "id": "37ufPicrpkCf"
   },
   "outputs": [],
   "source": [
    "sparse_pred_train = predict(x_train_spca, y_noise_train, model)"
   ]
  },
  {
   "cell_type": "code",
   "execution_count": null,
   "metadata": {
    "id": "FGRpXBDHpkCf"
   },
   "outputs": [],
   "source": [
    "sparse_pred_val = predict(x_val_spca, y_noise_val, model)"
   ]
  },
  {
   "cell_type": "code",
   "execution_count": null,
   "metadata": {},
   "outputs": [],
   "source": [
    "sparse_pred_test = predict(x_test_spca, None, model)"
   ]
  },
  {
   "cell_type": "markdown",
   "metadata": {
    "id": "IW8QfTeppkCg"
   },
   "source": [
    "### Advaced Ranking\n",
    "In the advanced ranking section, you are allowed to integrate PCA with additional data preprocessing. However, please note that you are not permitted to use existing data preprocessing and PCA libraries, modify the model's architecture, or alter the predetermined configuration."
   ]
  },
  {
   "cell_type": "code",
   "execution_count": null,
   "metadata": {
    "id": "22mgiGxgpkCk"
   },
   "outputs": [],
   "source": [
    "# GRADED CODE: RANKING PART DO YOUR DATA PREPROCESS HERE\n",
    "### START CODE HERE ###\n",
    "input_dim = None\n",
    "loss_function = None\n",
    "\n",
    "### END CODE HERE ###"
   ]
  },
  {
   "cell_type": "code",
   "execution_count": null,
   "metadata": {
    "id": "weBmleOapkCk"
   },
   "outputs": [],
   "source": [
    "adv_config = Config([input_dim, 128, 10], loss_function)\n",
    "adv_model = Model(adv_config)\n",
    "\n",
    "# GRADED CODE: RANKING PART DO YOUR TRAINING WORK HERE\n",
    "### START CODE HERE ###\n",
    "None\n",
    "adv_pred_test = predict(None, None, adv_model)\n",
    "### END CODE HERE ###"
   ]
  },
  {
   "cell_type": "code",
   "execution_count": null,
   "metadata": {
    "id": "kJ2FzB9LpkCl"
   },
   "outputs": [],
   "source": [
    "outputs[\"sparse_Vt\"] = sparse_Vt\n",
    "outputs[\"sparse_pca\"] = sparse_pca_check\n",
    "outputs[\"sparse_pred_train\"] = sparse_pred_train\n",
    "outputs[\"sparse_pred_val\"] = sparse_pred_val\n",
    "outputs[\"sparse_pred_test\"] = sparse_pred_test\n",
    "\n",
    "outputs[\"advanced_pred_test\"] = adv_pred_test\n",
    "outputs[\"advanced_layers_dims\"] = adv_config.layers_dims\n",
    "outputs[\"advanced_activation_fn\"] = adv_config.activation_fn\n",
    "outputs[\"advanced_loss_function\"] = adv_config.loss_function\n",
    "outputs[\"advanced_alpha\"] = adv_config.alpha\n",
    "outputs[\"advanced_gamma\"] = adv_config.gamma\n",
    "\n",
    "\n",
    "advanced_model_parameters = []\n",
    "for advanced_linear in adv_model.linear:\n",
    "    advanced_model_parameters.append(advanced_linear.parameters)\n",
    "outputs[\"advanced_model_parameters\"] = advanced_model_parameters"
   ]
  },
  {
   "cell_type": "code",
   "execution_count": null,
   "metadata": {
    "id": "hUby8TzUpkCl"
   },
   "outputs": [],
   "source": [
    "# sanity check\n",
    "assert list(outputs.keys()) == [\n",
    "    'basic_pred_test',\\\n",
    "    'basic_layers_dims',\\\n",
    "    'basic_activation_fn',\\\n",
    "    'basic_loss_function',\\\n",
    "    'basic_alpha',\\\n",
    "    'basic_gamma',\\\n",
    "    'basic_reconstruct_data_train',\\\n",
    "    'basic_reconstruct_data_val',\\\n",
    "    'basic_covariance_matrix',\\\n",
    "    'basic_var_ratio',\\\n",
    "    'basic_model_parameters',\\\n",
    "    'sparse_Vt',\\\n",
    "    'sparse_pca',\\\n",
    "    'sparse_pred_train',\\\n",
    "    'sparse_pred_val',\\\n",
    "    'sparse_pred_test',\\\n",
    "    'advanced_pred_test',\\\n",
    "    'advanced_layers_dims',\\\n",
    "    'advanced_activation_fn',\\\n",
    "    'advanced_loss_function',\\\n",
    "    'advanced_alpha',\\\n",
    "    'advanced_gamma',\\\n",
    "    'advanced_model_parameters'],\\\n",
    "\"You're missing something, please restart the kernel and run the code from begining to the end. If the same error occurs, maybe you deleted some outputs, check the template to find the missing parts!\""
   ]
  },
  {
   "cell_type": "code",
   "execution_count": null,
   "metadata": {
    "id": "sPrjpchApkCl"
   },
   "outputs": [],
   "source": [
    "np.save(\"output.npy\", outputs)"
   ]
  },
  {
   "cell_type": "code",
   "execution_count": null,
   "metadata": {
    "id": "IWS0c4IkpkCl"
   },
   "outputs": [],
   "source": [
    "# sanity check\n",
    "submit = np.load(\"output.npy\", allow_pickle=True).item()\n",
    "for key, value in submit.items():\n",
    "    print(str(key) + \"： \" + str(type(value)))"
   ]
  },
  {
   "cell_type": "code",
   "execution_count": null,
   "metadata": {
    "id": "e1eaeV-8pkCm"
   },
   "outputs": [],
   "source": []
  }
 ],
 "metadata": {
  "colab": {
   "provenance": []
  },
  "kernelspec": {
   "display_name": "Python 3 (ipykernel)",
   "language": "python",
   "name": "python3"
  },
  "language_info": {
   "codemirror_mode": {
    "name": "ipython",
    "version": 3
   },
   "file_extension": ".py",
   "mimetype": "text/x-python",
   "name": "python",
   "nbconvert_exporter": "python",
   "pygments_lexer": "ipython3",
   "version": "3.11.5"
  },
  "vscode": {
   "interpreter": {
    "hash": "bc07a8c6aa785ccbb5cb0815abffaffb139b111aca417c4ffe9bf221bae76ba2"
   }
  }
 },
 "nbformat": 4,
 "nbformat_minor": 1
}
